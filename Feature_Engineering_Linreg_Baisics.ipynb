{
  "nbformat": 4,
  "nbformat_minor": 0,
  "metadata": {
    "colab": {
      "name": "Feature Engineering_Linreg_Baisics.ipynb",
      "provenance": [],
      "authorship_tag": "ABX9TyNqxnt9aT0i0ygWjAgfryph",
      "include_colab_link": true
    },
    "kernelspec": {
      "name": "python3",
      "display_name": "Python 3"
    }
  },
  "cells": [
    {
      "cell_type": "markdown",
      "metadata": {
        "id": "view-in-github",
        "colab_type": "text"
      },
      "source": [
        "<a href=\"https://colab.research.google.com/github/iqbalamo93/Feature_Eng/blob/master/Feature_Engineering_Linreg_Baisics.ipynb\" target=\"_parent\"><img src=\"https://colab.research.google.com/assets/colab-badge.svg\" alt=\"Open In Colab\"/></a>"
      ]
    },
    {
      "cell_type": "code",
      "metadata": {
        "id": "0SmSXx5e4N7C",
        "colab_type": "code",
        "colab": {}
      },
      "source": [
        "import pandas as pd\n",
        "import numpy as np\n",
        "import matplotlib.pyplot as plt\n"
      ],
      "execution_count": 0,
      "outputs": []
    },
    {
      "cell_type": "code",
      "metadata": {
        "id": "WBbV6YOt8sih",
        "colab_type": "code",
        "colab": {}
      },
      "source": [
        "url='https://raw.githubusercontent.com/iqbalamo93/Datasets/master/AmesHousing_Feat.txt'"
      ],
      "execution_count": 0,
      "outputs": []
    },
    {
      "cell_type": "code",
      "metadata": {
        "id": "IidMLt4Z9MhG",
        "colab_type": "code",
        "colab": {}
      },
      "source": [
        "data = pd.read_csv(url, delimiter=\"\\t\")\n",
        "train = data[0:1460]\n",
        "test = data[1460:]"
      ],
      "execution_count": 0,
      "outputs": []
    },
    {
      "cell_type": "code",
      "metadata": {
        "id": "z6AlEx4n9Us_",
        "colab_type": "code",
        "colab": {}
      },
      "source": [
        "train_null_counts = train.isnull().sum()"
      ],
      "execution_count": 0,
      "outputs": []
    },
    {
      "cell_type": "markdown",
      "metadata": {
        "id": "Vo_hN_CU-7Ie",
        "colab_type": "text"
      },
      "source": [
        "Select just the columns from the train data frame that contain no missing values.Assign the resulting data frame, that contains just these columns, to df_no_mv.Use the variables display to become familiar with these column"
      ]
    },
    {
      "cell_type": "code",
      "metadata": {
        "id": "zWRhnHEc9gLX",
        "colab_type": "code",
        "outputId": "429eb231-5cb6-4bff-d047-aee6fc19ac68",
        "colab": {
          "base_uri": "https://localhost:8080/",
          "height": 225
        }
      },
      "source": [
        "train_null_counts = train.isnull().sum()\n",
        "print(train_null_counts)\n",
        "df_no_mv = train[train_null_counts[train_null_counts==0].index]"
      ],
      "execution_count": 0,
      "outputs": [
        {
          "output_type": "stream",
          "text": [
            "Order               0\n",
            "PID                 0\n",
            "MS SubClass         0\n",
            "MS Zoning           0\n",
            "Lot Frontage      249\n",
            "                 ... \n",
            "Mo Sold             0\n",
            "Yr Sold             0\n",
            "Sale Type           0\n",
            "Sale Condition      0\n",
            "SalePrice           0\n",
            "Length: 82, dtype: int64\n"
          ],
          "name": "stdout"
        }
      ]
    },
    {
      "cell_type": "code",
      "metadata": {
        "id": "HQZnpeHA9uhT",
        "colab_type": "code",
        "outputId": "7f89b98f-b086-4838-8fec-b60ab998f3a6",
        "colab": {
          "base_uri": "https://localhost:8080/",
          "height": 121
        }
      },
      "source": [
        "train.loc[:,'Utilities']=train['Utilities'].astype('category')"
      ],
      "execution_count": 0,
      "outputs": [
        {
          "output_type": "stream",
          "text": [
            "/usr/local/lib/python3.6/dist-packages/pandas/core/indexing.py:966: SettingWithCopyWarning: \n",
            "A value is trying to be set on a copy of a slice from a DataFrame.\n",
            "Try using .loc[row_indexer,col_indexer] = value instead\n",
            "\n",
            "See the caveats in the documentation: https://pandas.pydata.org/pandas-docs/stable/user_guide/indexing.html#returning-a-view-versus-a-copy\n",
            "  self.obj[item] = s\n"
          ],
          "name": "stderr"
        }
      ]
    },
    {
      "cell_type": "code",
      "metadata": {
        "id": "Nh45THZE_SML",
        "colab_type": "code",
        "outputId": "475dbf45-0a34-4be5-c425-54eaf5af0e0c",
        "colab": {
          "base_uri": "https://localhost:8080/",
          "height": 243
        }
      },
      "source": [
        "train['Utilities']"
      ],
      "execution_count": 0,
      "outputs": [
        {
          "output_type": "execute_result",
          "data": {
            "text/plain": [
              "0       AllPub\n",
              "1       AllPub\n",
              "2       AllPub\n",
              "3       AllPub\n",
              "4       AllPub\n",
              "         ...  \n",
              "1455    AllPub\n",
              "1456    AllPub\n",
              "1457    AllPub\n",
              "1458    AllPub\n",
              "1459    AllPub\n",
              "Name: Utilities, Length: 1460, dtype: category\n",
              "Categories (3, object): [AllPub, NoSeWa, NoSewr]"
            ]
          },
          "metadata": {
            "tags": []
          },
          "execution_count": 91
        }
      ]
    },
    {
      "cell_type": "code",
      "metadata": {
        "id": "_b_AB23iARHg",
        "colab_type": "code",
        "outputId": "4f79e165-2b79-480a-b47b-63d2ec260add",
        "colab": {
          "base_uri": "https://localhost:8080/",
          "height": 87
        }
      },
      "source": [
        "train['Utilities'].value_counts()"
      ],
      "execution_count": 0,
      "outputs": [
        {
          "output_type": "execute_result",
          "data": {
            "text/plain": [
              "AllPub    1457\n",
              "NoSewr       2\n",
              "NoSeWa       1\n",
              "Name: Utilities, dtype: int64"
            ]
          },
          "metadata": {
            "tags": []
          },
          "execution_count": 92
        }
      ]
    },
    {
      "cell_type": "code",
      "metadata": {
        "id": "dA9EuKKL_5UX",
        "colab_type": "code",
        "outputId": "25005dd9-c00c-4825-9a81-f851d84febb8",
        "colab": {
          "base_uri": "https://localhost:8080/",
          "height": 87
        }
      },
      "source": [
        "train['Utilities'].cat.codes.value_counts()"
      ],
      "execution_count": 0,
      "outputs": [
        {
          "output_type": "execute_result",
          "data": {
            "text/plain": [
              "0    1457\n",
              "2       2\n",
              "1       1\n",
              "dtype: int64"
            ]
          },
          "metadata": {
            "tags": []
          },
          "execution_count": 93
        }
      ]
    },
    {
      "cell_type": "markdown",
      "metadata": {
        "id": "Oi2GnE5SDDG_",
        "colab_type": "text"
      },
      "source": [
        "When we convert a column to the categorical data type, pandas assigns a number from 0 to n-1 (where n is the number of unique values in a column) for each value. The drawback with this approach is that one of the assumptions of linear regression is violated here. Linear regression operates under the assumption that the features are linearly correlated with the target column. For a categorical feature, however, there's no actual numerical meaning to the categorical codes that pandas assigned for that column. An increase in the Utilities column from 1 to 2 has no correlation value with the target column, and the categorical codes are instead used for uniqueness and exclusivity (the category associated with 0 is different than the one associated with 1)."
      ]
    },
    {
      "cell_type": "code",
      "metadata": {
        "id": "-_SzCB8WACYd",
        "colab_type": "code",
        "colab": {}
      },
      "source": [
        "\n",
        "dummies=pd.get_dummies(train['Utilities'],drop_first=True)\n",
        "\n"
      ],
      "execution_count": 0,
      "outputs": []
    },
    {
      "cell_type": "code",
      "metadata": {
        "id": "rkhiZvPzAyAN",
        "colab_type": "code",
        "outputId": "c87e7a58-153a-4d67-9751-01608b2938fe",
        "colab": {
          "base_uri": "https://localhost:8080/",
          "height": 69
        }
      },
      "source": [
        "dummies['NoSeWa'].value_counts()"
      ],
      "execution_count": 0,
      "outputs": [
        {
          "output_type": "execute_result",
          "data": {
            "text/plain": [
              "0    1459\n",
              "1       1\n",
              "Name: NoSeWa, dtype: int64"
            ]
          },
          "metadata": {
            "tags": []
          },
          "execution_count": 95
        }
      ]
    },
    {
      "cell_type": "code",
      "metadata": {
        "id": "Uux8kCL9A8Bb",
        "colab_type": "code",
        "outputId": "3588bde0-4168-4296-8c1d-a8eeb2c59eee",
        "colab": {
          "base_uri": "https://localhost:8080/",
          "height": 69
        }
      },
      "source": [
        "dummies['NoSewr'].value_counts()"
      ],
      "execution_count": 0,
      "outputs": [
        {
          "output_type": "execute_result",
          "data": {
            "text/plain": [
              "0    1458\n",
              "1       2\n",
              "Name: NoSewr, dtype: int64"
            ]
          },
          "metadata": {
            "tags": []
          },
          "execution_count": 96
        }
      ]
    },
    {
      "cell_type": "code",
      "metadata": {
        "id": "BLLPkxnTCEtT",
        "colab_type": "code",
        "outputId": "918197cc-5e13-4d66-eee0-b543ad4a80fd",
        "colab": {
          "base_uri": "https://localhost:8080/",
          "height": 35
        }
      },
      "source": [
        "dummies.columns"
      ],
      "execution_count": 0,
      "outputs": [
        {
          "output_type": "execute_result",
          "data": {
            "text/plain": [
              "CategoricalIndex(['NoSeWa', 'NoSewr'], categories=['AllPub', 'NoSeWa', 'NoSewr'], ordered=False, dtype='category')"
            ]
          },
          "metadata": {
            "tags": []
          },
          "execution_count": 97
        }
      ]
    },
    {
      "cell_type": "code",
      "metadata": {
        "id": "3K1UlvIZCJEu",
        "colab_type": "code",
        "outputId": "f06f8fa1-b380-416b-f714-f66990ce4e5a",
        "colab": {
          "base_uri": "https://localhost:8080/",
          "height": 191
        }
      },
      "source": [
        "text_cols = df_no_mv.select_dtypes(include=['object']).columns\n",
        "\n",
        "for col in text_cols:\n",
        "    train[col] = train[col].astype('category')\n",
        "train['Utilities'].cat.codes.value_counts()"
      ],
      "execution_count": 0,
      "outputs": [
        {
          "output_type": "stream",
          "text": [
            "/usr/local/lib/python3.6/dist-packages/ipykernel_launcher.py:4: SettingWithCopyWarning: \n",
            "A value is trying to be set on a copy of a slice from a DataFrame.\n",
            "Try using .loc[row_indexer,col_indexer] = value instead\n",
            "\n",
            "See the caveats in the documentation: https://pandas.pydata.org/pandas-docs/stable/user_guide/indexing.html#returning-a-view-versus-a-copy\n",
            "  after removing the cwd from sys.path.\n"
          ],
          "name": "stderr"
        },
        {
          "output_type": "execute_result",
          "data": {
            "text/plain": [
              "0    1457\n",
              "2       2\n",
              "1       1\n",
              "dtype: int64"
            ]
          },
          "metadata": {
            "tags": []
          },
          "execution_count": 98
        }
      ]
    },
    {
      "cell_type": "code",
      "metadata": {
        "id": "UCHxMXlcCg-m",
        "colab_type": "code",
        "colab": {}
      },
      "source": [
        "df = pd.concat([train,dummies],axis=1)"
      ],
      "execution_count": 0,
      "outputs": []
    },
    {
      "cell_type": "code",
      "metadata": {
        "id": "V_npRlAzDbmn",
        "colab_type": "code",
        "colab": {}
      },
      "source": [
        "#del train['Utilities']"
      ],
      "execution_count": 0,
      "outputs": []
    },
    {
      "cell_type": "code",
      "metadata": {
        "id": "ULWpQAw9DjiO",
        "colab_type": "code",
        "colab": {}
      },
      "source": [
        "#dummy_cols = pd.DataFrame()\n",
        "for col in text_cols:\n",
        "    col_dummies = pd.get_dummies(train[col])\n",
        "    train = pd.concat([train, col_dummies], axis=1)\n",
        "    del train[col]\n"
      ],
      "execution_count": 0,
      "outputs": []
    },
    {
      "cell_type": "markdown",
      "metadata": {
        "id": "P79hpC34Dubk",
        "colab_type": "text"
      },
      "source": [
        "In the last few screens, we focused on categorical values that were represented as text columns. Some of the numerical columns in the data set are also categorical and only have a limited set of unique values. We won't explicitly explore those columns in this mission, but the feature transformation process is the same if the numbers used in those categories have no numerical meaning.\n",
        "\n",
        "Let's now look at numerical features that aren't categorical, but whose numerical representation needs to be improved. We'll focus on the Year Remod/Add and Year Built columns:"
      ]
    },
    {
      "cell_type": "code",
      "metadata": {
        "id": "pGQkA_V6FZ0q",
        "colab_type": "code",
        "outputId": "99c644bc-08d2-4321-a125-12bea5df3590",
        "colab": {
          "base_uri": "https://localhost:8080/",
          "height": 260
        }
      },
      "source": [
        "print(train[['Year Remod/Add', 'Year Built']])"
      ],
      "execution_count": 0,
      "outputs": [
        {
          "output_type": "stream",
          "text": [
            "      Year Remod/Add  Year Built\n",
            "0               1960        1960\n",
            "1               1961        1961\n",
            "2               1958        1958\n",
            "3               1968        1968\n",
            "4               1998        1997\n",
            "...              ...         ...\n",
            "1455            2000        2000\n",
            "1456            2001        2001\n",
            "1457            2000        1999\n",
            "1458            1999        1998\n",
            "1459            2002        2001\n",
            "\n",
            "[1460 rows x 2 columns]\n"
          ],
          "name": "stdout"
        }
      ]
    },
    {
      "cell_type": "markdown",
      "metadata": {
        "id": "iZ91vd1kFc2a",
        "colab_type": "text"
      },
      "source": [
        "The two main issues with these features are:\n",
        "\n",
        "\n",
        "1.   Year values aren't representative of how old a house is\n",
        "2.   The Year Remod/Add column doesn't actually provide useful information for a linear regression model\n",
        "The challenge with year values like 1960 and 1961 is that they don't do a good job of capturing how old a house is. For example, a house that was built in 1960 but sold in 1980 was sold in half the time as one built in 1960 and sold in 2000. Instead of the years certain events happened, we want the difference between those years. We should create a new column that's the difference between both of these columns.\n",
        "\n",
        "For this particular piece of information (years until remodeled), this is a sensible approach. Domain knowledge can help you understand how to best transform features to represent information well for a linear model. If you're ever confused about a feature or how it should be represented, reading scientific papers or posts by researchers in the specific domain is critical. Many winners of Kaggle data science competitions, for example, claim that their focus on data preparation and feature engineering combined with common machine learning models helped them win.\n"
      ]
    },
    {
      "cell_type": "code",
      "metadata": {
        "id": "5S0RSCHEFm1A",
        "colab_type": "code",
        "colab": {}
      },
      "source": [
        "train['years_until_remod'] = train['Year Remod/Add'] - train['Year Built']"
      ],
      "execution_count": 0,
      "outputs": []
    },
    {
      "cell_type": "code",
      "metadata": {
        "id": "NPEnfPE3Fxuy",
        "colab_type": "code",
        "colab": {}
      },
      "source": [
        "train_null_counts = train.isnull().sum()"
      ],
      "execution_count": 0,
      "outputs": []
    },
    {
      "cell_type": "code",
      "metadata": {
        "id": "G2qcTxppIiAq",
        "colab_type": "code",
        "outputId": "024f8d99-5b41-4b17-e934-9744dcd9fedd",
        "colab": {
          "base_uri": "https://localhost:8080/",
          "height": 225
        }
      },
      "source": [
        "100 * train_null_counts/len(train)"
      ],
      "execution_count": 0,
      "outputs": [
        {
          "output_type": "execute_result",
          "data": {
            "text/plain": [
              "Order                 0.000000\n",
              "PID                   0.000000\n",
              "MS SubClass           0.000000\n",
              "Lot Frontage         17.054795\n",
              "Lot Area              0.000000\n",
              "                       ...    \n",
              "Alloca                0.000000\n",
              "Family                0.000000\n",
              "Normal                0.000000\n",
              "Partial               0.000000\n",
              "years_until_remod     0.000000\n",
              "Length: 237, dtype: float64"
            ]
          },
          "metadata": {
            "tags": []
          },
          "execution_count": 106
        }
      ]
    },
    {
      "cell_type": "code",
      "metadata": {
        "id": "IrpepQuxImzt",
        "colab_type": "code",
        "outputId": "88564778-e16b-43ec-9c20-ff15db22aa8b",
        "colab": {
          "base_uri": "https://localhost:8080/",
          "height": 711
        }
      },
      "source": [
        "train_null_counts = train.isnull().sum()\n",
        "df_missing_values = train[train_null_counts[(train_null_counts>0) & (train_null_counts<584)].index]\n",
        "\n",
        "print(df_missing_values.isnull().sum())\n",
        "print(df_missing_values.dtypes)"
      ],
      "execution_count": 0,
      "outputs": [
        {
          "output_type": "stream",
          "text": [
            "Lot Frontage      249\n",
            "Mas Vnr Type       11\n",
            "Mas Vnr Area       11\n",
            "Bsmt Qual          40\n",
            "Bsmt Cond          40\n",
            "Bsmt Exposure      41\n",
            "BsmtFin Type 1     40\n",
            "BsmtFin SF 1        1\n",
            "BsmtFin Type 2     41\n",
            "BsmtFin SF 2        1\n",
            "Bsmt Unf SF         1\n",
            "Total Bsmt SF       1\n",
            "Bsmt Full Bath      1\n",
            "Bsmt Half Bath      1\n",
            "Garage Type        74\n",
            "Garage Yr Blt      75\n",
            "Garage Finish      75\n",
            "Garage Qual        75\n",
            "Garage Cond        75\n",
            "dtype: int64\n",
            "Lot Frontage      float64\n",
            "Mas Vnr Type       object\n",
            "Mas Vnr Area      float64\n",
            "Bsmt Qual          object\n",
            "Bsmt Cond          object\n",
            "Bsmt Exposure      object\n",
            "BsmtFin Type 1     object\n",
            "BsmtFin SF 1      float64\n",
            "BsmtFin Type 2     object\n",
            "BsmtFin SF 2      float64\n",
            "Bsmt Unf SF       float64\n",
            "Total Bsmt SF     float64\n",
            "Bsmt Full Bath    float64\n",
            "Bsmt Half Bath    float64\n",
            "Garage Type        object\n",
            "Garage Yr Blt     float64\n",
            "Garage Finish      object\n",
            "Garage Qual        object\n",
            "Garage Cond        object\n",
            "dtype: object\n"
          ],
          "name": "stdout"
        }
      ]
    },
    {
      "cell_type": "code",
      "metadata": {
        "id": "Y_haYwXPI0EJ",
        "colab_type": "code",
        "outputId": "497aa229-4e98-4eed-db9a-cf7d48a307f6",
        "colab": {
          "base_uri": "https://localhost:8080/",
          "height": 260
        }
      },
      "source": [
        "missing_floats = df_missing_values.select_dtypes(include=['float'])\n",
        "print(missing_floats)"
      ],
      "execution_count": 0,
      "outputs": [
        {
          "output_type": "stream",
          "text": [
            "      Lot Frontage  Mas Vnr Area  ...  Bsmt Half Bath  Garage Yr Blt\n",
            "0            141.0         112.0  ...             0.0         1960.0\n",
            "1             80.0           0.0  ...             0.0         1961.0\n",
            "2             81.0         108.0  ...             0.0         1958.0\n",
            "3             93.0           0.0  ...             0.0         1968.0\n",
            "4             74.0           0.0  ...             0.0         1997.0\n",
            "...            ...           ...  ...             ...            ...\n",
            "1455           NaN           0.0  ...             0.0         2000.0\n",
            "1456           NaN         227.0  ...             0.0         2001.0\n",
            "1457          73.0         320.0  ...             0.0         1999.0\n",
            "1458          75.0         202.0  ...             0.0         1998.0\n",
            "1459           NaN         396.0  ...             0.0         2001.0\n",
            "\n",
            "[1460 rows x 9 columns]\n"
          ],
          "name": "stdout"
        }
      ]
    },
    {
      "cell_type": "code",
      "metadata": {
        "id": "KavUdZqTJz_H",
        "colab_type": "code",
        "colab": {}
      },
      "source": [
        "fill_with_zero = missing_floats.fillna(0)\n",
        "fill_with_mean = missing_floats.fillna(missing_floats.mean())"
      ],
      "execution_count": 0,
      "outputs": []
    },
    {
      "cell_type": "code",
      "metadata": {
        "id": "6QuQpWrtKEsi",
        "colab_type": "code",
        "outputId": "fa0e6cbc-a748-4262-830b-041e4684eedc",
        "colab": {
          "base_uri": "https://localhost:8080/",
          "height": 191
        }
      },
      "source": [
        "float_cols = df_missing_values.select_dtypes(include=['float'])\n",
        "float_cols = float_cols.fillna(float_cols.mean())\n",
        "print(float_cols.isnull().sum())"
      ],
      "execution_count": 0,
      "outputs": [
        {
          "output_type": "stream",
          "text": [
            "Lot Frontage      0\n",
            "Mas Vnr Area      0\n",
            "BsmtFin SF 1      0\n",
            "BsmtFin SF 2      0\n",
            "Bsmt Unf SF       0\n",
            "Total Bsmt SF     0\n",
            "Bsmt Full Bath    0\n",
            "Bsmt Half Bath    0\n",
            "Garage Yr Blt     0\n",
            "dtype: int64\n"
          ],
          "name": "stdout"
        }
      ]
    },
    {
      "cell_type": "code",
      "metadata": {
        "id": "LzTv5oyBKkKN",
        "colab_type": "code",
        "colab": {}
      },
      "source": [
        ""
      ],
      "execution_count": 0,
      "outputs": []
    }
  ]
}